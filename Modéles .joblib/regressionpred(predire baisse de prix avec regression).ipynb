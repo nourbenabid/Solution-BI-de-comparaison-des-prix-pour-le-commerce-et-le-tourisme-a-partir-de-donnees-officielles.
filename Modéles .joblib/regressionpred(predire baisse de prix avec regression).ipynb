{
  "nbformat": 4,
  "nbformat_minor": 0,
  "metadata": {
    "colab": {
      "provenance": []
    },
    "kernelspec": {
      "name": "python3",
      "display_name": "Python 3"
    },
    "language_info": {
      "name": "python"
    }
  },
  "cells": [
    {
      "cell_type": "markdown",
      "source": [
        "\n",
        "Un objectif supervisé de régression:prédire les baisses de prix (avec  RandomForestRegressor)\n",
        "\n",
        "\n",
        "\n",
        "\n",
        "\n"
      ],
      "metadata": {
        "id": "DeBKKFfClsZo"
      }
    },
    {
      "cell_type": "code",
      "execution_count": 266,
      "metadata": {
        "colab": {
          "base_uri": "https://localhost:8080/",
          "height": 206
        },
        "id": "-gOULfZWpld4",
        "outputId": "f0332cd4-b53d-4a45-953b-56e956fd2cc5"
      },
      "outputs": [
        {
          "output_type": "execute_result",
          "data": {
            "text/plain": [
              "            Produit   Marque  Prix  Prix_avant_remise Taille Pourcentage  \\\n",
              "0   Boisson gazeuse     VIVA  2.10               2.49     1L        -16%   \n",
              "1   Boisson gazeuse  TROPICO  2.10               2.49     1L        -16%   \n",
              "2   Boisson gazeuse    RAOUA  2.10               2.49     1L        -16%   \n",
              "3  Boisson gazeuse      VIVA  1.15               1.33  24 cl        -14%   \n",
              "4  Boisson gazeuse     RAOUA  1.15               1.33  24 cl        -14%   \n",
              "\n",
              "  magasin Code_Produit  id_entreprise Date_D_Achat  Quantite_Achetee  \n",
              "0      MG       M-1501              3   30/09/2023                 3  \n",
              "1      MG       M-1502              3   22/01/2023                 4  \n",
              "2      MG       M-1503              3   01/03/2024                 4  \n",
              "3      MG       M-1504              3   23/01/2023                 2  \n",
              "4      MG       M-1505              3   31/05/2024                 3  "
            ],
            "text/html": [
              "\n",
              "  <div id=\"df-afcc4271-950c-4737-8878-ffe6f4f76240\" class=\"colab-df-container\">\n",
              "    <div>\n",
              "<style scoped>\n",
              "    .dataframe tbody tr th:only-of-type {\n",
              "        vertical-align: middle;\n",
              "    }\n",
              "\n",
              "    .dataframe tbody tr th {\n",
              "        vertical-align: top;\n",
              "    }\n",
              "\n",
              "    .dataframe thead th {\n",
              "        text-align: right;\n",
              "    }\n",
              "</style>\n",
              "<table border=\"1\" class=\"dataframe\">\n",
              "  <thead>\n",
              "    <tr style=\"text-align: right;\">\n",
              "      <th></th>\n",
              "      <th>Produit</th>\n",
              "      <th>Marque</th>\n",
              "      <th>Prix</th>\n",
              "      <th>Prix_avant_remise</th>\n",
              "      <th>Taille</th>\n",
              "      <th>Pourcentage</th>\n",
              "      <th>magasin</th>\n",
              "      <th>Code_Produit</th>\n",
              "      <th>id_entreprise</th>\n",
              "      <th>Date_D_Achat</th>\n",
              "      <th>Quantite_Achetee</th>\n",
              "    </tr>\n",
              "  </thead>\n",
              "  <tbody>\n",
              "    <tr>\n",
              "      <th>0</th>\n",
              "      <td>Boisson gazeuse</td>\n",
              "      <td>VIVA</td>\n",
              "      <td>2.10</td>\n",
              "      <td>2.49</td>\n",
              "      <td>1L</td>\n",
              "      <td>-16%</td>\n",
              "      <td>MG</td>\n",
              "      <td>M-1501</td>\n",
              "      <td>3</td>\n",
              "      <td>30/09/2023</td>\n",
              "      <td>3</td>\n",
              "    </tr>\n",
              "    <tr>\n",
              "      <th>1</th>\n",
              "      <td>Boisson gazeuse</td>\n",
              "      <td>TROPICO</td>\n",
              "      <td>2.10</td>\n",
              "      <td>2.49</td>\n",
              "      <td>1L</td>\n",
              "      <td>-16%</td>\n",
              "      <td>MG</td>\n",
              "      <td>M-1502</td>\n",
              "      <td>3</td>\n",
              "      <td>22/01/2023</td>\n",
              "      <td>4</td>\n",
              "    </tr>\n",
              "    <tr>\n",
              "      <th>2</th>\n",
              "      <td>Boisson gazeuse</td>\n",
              "      <td>RAOUA</td>\n",
              "      <td>2.10</td>\n",
              "      <td>2.49</td>\n",
              "      <td>1L</td>\n",
              "      <td>-16%</td>\n",
              "      <td>MG</td>\n",
              "      <td>M-1503</td>\n",
              "      <td>3</td>\n",
              "      <td>01/03/2024</td>\n",
              "      <td>4</td>\n",
              "    </tr>\n",
              "    <tr>\n",
              "      <th>3</th>\n",
              "      <td>Boisson gazeuse</td>\n",
              "      <td>VIVA</td>\n",
              "      <td>1.15</td>\n",
              "      <td>1.33</td>\n",
              "      <td>24 cl</td>\n",
              "      <td>-14%</td>\n",
              "      <td>MG</td>\n",
              "      <td>M-1504</td>\n",
              "      <td>3</td>\n",
              "      <td>23/01/2023</td>\n",
              "      <td>2</td>\n",
              "    </tr>\n",
              "    <tr>\n",
              "      <th>4</th>\n",
              "      <td>Boisson gazeuse</td>\n",
              "      <td>RAOUA</td>\n",
              "      <td>1.15</td>\n",
              "      <td>1.33</td>\n",
              "      <td>24 cl</td>\n",
              "      <td>-14%</td>\n",
              "      <td>MG</td>\n",
              "      <td>M-1505</td>\n",
              "      <td>3</td>\n",
              "      <td>31/05/2024</td>\n",
              "      <td>3</td>\n",
              "    </tr>\n",
              "  </tbody>\n",
              "</table>\n",
              "</div>\n",
              "    <div class=\"colab-df-buttons\">\n",
              "\n",
              "  <div class=\"colab-df-container\">\n",
              "    <button class=\"colab-df-convert\" onclick=\"convertToInteractive('df-afcc4271-950c-4737-8878-ffe6f4f76240')\"\n",
              "            title=\"Convert this dataframe to an interactive table.\"\n",
              "            style=\"display:none;\">\n",
              "\n",
              "  <svg xmlns=\"http://www.w3.org/2000/svg\" height=\"24px\" viewBox=\"0 -960 960 960\">\n",
              "    <path d=\"M120-120v-720h720v720H120Zm60-500h600v-160H180v160Zm220 220h160v-160H400v160Zm0 220h160v-160H400v160ZM180-400h160v-160H180v160Zm440 0h160v-160H620v160ZM180-180h160v-160H180v160Zm440 0h160v-160H620v160Z\"/>\n",
              "  </svg>\n",
              "    </button>\n",
              "\n",
              "  <style>\n",
              "    .colab-df-container {\n",
              "      display:flex;\n",
              "      gap: 12px;\n",
              "    }\n",
              "\n",
              "    .colab-df-convert {\n",
              "      background-color: #E8F0FE;\n",
              "      border: none;\n",
              "      border-radius: 50%;\n",
              "      cursor: pointer;\n",
              "      display: none;\n",
              "      fill: #1967D2;\n",
              "      height: 32px;\n",
              "      padding: 0 0 0 0;\n",
              "      width: 32px;\n",
              "    }\n",
              "\n",
              "    .colab-df-convert:hover {\n",
              "      background-color: #E2EBFA;\n",
              "      box-shadow: 0px 1px 2px rgba(60, 64, 67, 0.3), 0px 1px 3px 1px rgba(60, 64, 67, 0.15);\n",
              "      fill: #174EA6;\n",
              "    }\n",
              "\n",
              "    .colab-df-buttons div {\n",
              "      margin-bottom: 4px;\n",
              "    }\n",
              "\n",
              "    [theme=dark] .colab-df-convert {\n",
              "      background-color: #3B4455;\n",
              "      fill: #D2E3FC;\n",
              "    }\n",
              "\n",
              "    [theme=dark] .colab-df-convert:hover {\n",
              "      background-color: #434B5C;\n",
              "      box-shadow: 0px 1px 3px 1px rgba(0, 0, 0, 0.15);\n",
              "      filter: drop-shadow(0px 1px 2px rgba(0, 0, 0, 0.3));\n",
              "      fill: #FFFFFF;\n",
              "    }\n",
              "  </style>\n",
              "\n",
              "    <script>\n",
              "      const buttonEl =\n",
              "        document.querySelector('#df-afcc4271-950c-4737-8878-ffe6f4f76240 button.colab-df-convert');\n",
              "      buttonEl.style.display =\n",
              "        google.colab.kernel.accessAllowed ? 'block' : 'none';\n",
              "\n",
              "      async function convertToInteractive(key) {\n",
              "        const element = document.querySelector('#df-afcc4271-950c-4737-8878-ffe6f4f76240');\n",
              "        const dataTable =\n",
              "          await google.colab.kernel.invokeFunction('convertToInteractive',\n",
              "                                                    [key], {});\n",
              "        if (!dataTable) return;\n",
              "\n",
              "        const docLinkHtml = 'Like what you see? Visit the ' +\n",
              "          '<a target=\"_blank\" href=https://colab.research.google.com/notebooks/data_table.ipynb>data table notebook</a>'\n",
              "          + ' to learn more about interactive tables.';\n",
              "        element.innerHTML = '';\n",
              "        dataTable['output_type'] = 'display_data';\n",
              "        await google.colab.output.renderOutput(dataTable, element);\n",
              "        const docLink = document.createElement('div');\n",
              "        docLink.innerHTML = docLinkHtml;\n",
              "        element.appendChild(docLink);\n",
              "      }\n",
              "    </script>\n",
              "  </div>\n",
              "\n",
              "\n",
              "<div id=\"df-93ca52af-edae-4267-9a00-ba445027de73\">\n",
              "  <button class=\"colab-df-quickchart\" onclick=\"quickchart('df-93ca52af-edae-4267-9a00-ba445027de73')\"\n",
              "            title=\"Suggest charts\"\n",
              "            style=\"display:none;\">\n",
              "\n",
              "<svg xmlns=\"http://www.w3.org/2000/svg\" height=\"24px\"viewBox=\"0 0 24 24\"\n",
              "     width=\"24px\">\n",
              "    <g>\n",
              "        <path d=\"M19 3H5c-1.1 0-2 .9-2 2v14c0 1.1.9 2 2 2h14c1.1 0 2-.9 2-2V5c0-1.1-.9-2-2-2zM9 17H7v-7h2v7zm4 0h-2V7h2v10zm4 0h-2v-4h2v4z\"/>\n",
              "    </g>\n",
              "</svg>\n",
              "  </button>\n",
              "\n",
              "<style>\n",
              "  .colab-df-quickchart {\n",
              "      --bg-color: #E8F0FE;\n",
              "      --fill-color: #1967D2;\n",
              "      --hover-bg-color: #E2EBFA;\n",
              "      --hover-fill-color: #174EA6;\n",
              "      --disabled-fill-color: #AAA;\n",
              "      --disabled-bg-color: #DDD;\n",
              "  }\n",
              "\n",
              "  [theme=dark] .colab-df-quickchart {\n",
              "      --bg-color: #3B4455;\n",
              "      --fill-color: #D2E3FC;\n",
              "      --hover-bg-color: #434B5C;\n",
              "      --hover-fill-color: #FFFFFF;\n",
              "      --disabled-bg-color: #3B4455;\n",
              "      --disabled-fill-color: #666;\n",
              "  }\n",
              "\n",
              "  .colab-df-quickchart {\n",
              "    background-color: var(--bg-color);\n",
              "    border: none;\n",
              "    border-radius: 50%;\n",
              "    cursor: pointer;\n",
              "    display: none;\n",
              "    fill: var(--fill-color);\n",
              "    height: 32px;\n",
              "    padding: 0;\n",
              "    width: 32px;\n",
              "  }\n",
              "\n",
              "  .colab-df-quickchart:hover {\n",
              "    background-color: var(--hover-bg-color);\n",
              "    box-shadow: 0 1px 2px rgba(60, 64, 67, 0.3), 0 1px 3px 1px rgba(60, 64, 67, 0.15);\n",
              "    fill: var(--button-hover-fill-color);\n",
              "  }\n",
              "\n",
              "  .colab-df-quickchart-complete:disabled,\n",
              "  .colab-df-quickchart-complete:disabled:hover {\n",
              "    background-color: var(--disabled-bg-color);\n",
              "    fill: var(--disabled-fill-color);\n",
              "    box-shadow: none;\n",
              "  }\n",
              "\n",
              "  .colab-df-spinner {\n",
              "    border: 2px solid var(--fill-color);\n",
              "    border-color: transparent;\n",
              "    border-bottom-color: var(--fill-color);\n",
              "    animation:\n",
              "      spin 1s steps(1) infinite;\n",
              "  }\n",
              "\n",
              "  @keyframes spin {\n",
              "    0% {\n",
              "      border-color: transparent;\n",
              "      border-bottom-color: var(--fill-color);\n",
              "      border-left-color: var(--fill-color);\n",
              "    }\n",
              "    20% {\n",
              "      border-color: transparent;\n",
              "      border-left-color: var(--fill-color);\n",
              "      border-top-color: var(--fill-color);\n",
              "    }\n",
              "    30% {\n",
              "      border-color: transparent;\n",
              "      border-left-color: var(--fill-color);\n",
              "      border-top-color: var(--fill-color);\n",
              "      border-right-color: var(--fill-color);\n",
              "    }\n",
              "    40% {\n",
              "      border-color: transparent;\n",
              "      border-right-color: var(--fill-color);\n",
              "      border-top-color: var(--fill-color);\n",
              "    }\n",
              "    60% {\n",
              "      border-color: transparent;\n",
              "      border-right-color: var(--fill-color);\n",
              "    }\n",
              "    80% {\n",
              "      border-color: transparent;\n",
              "      border-right-color: var(--fill-color);\n",
              "      border-bottom-color: var(--fill-color);\n",
              "    }\n",
              "    90% {\n",
              "      border-color: transparent;\n",
              "      border-bottom-color: var(--fill-color);\n",
              "    }\n",
              "  }\n",
              "</style>\n",
              "\n",
              "  <script>\n",
              "    async function quickchart(key) {\n",
              "      const quickchartButtonEl =\n",
              "        document.querySelector('#' + key + ' button');\n",
              "      quickchartButtonEl.disabled = true;  // To prevent multiple clicks.\n",
              "      quickchartButtonEl.classList.add('colab-df-spinner');\n",
              "      try {\n",
              "        const charts = await google.colab.kernel.invokeFunction(\n",
              "            'suggestCharts', [key], {});\n",
              "      } catch (error) {\n",
              "        console.error('Error during call to suggestCharts:', error);\n",
              "      }\n",
              "      quickchartButtonEl.classList.remove('colab-df-spinner');\n",
              "      quickchartButtonEl.classList.add('colab-df-quickchart-complete');\n",
              "    }\n",
              "    (() => {\n",
              "      let quickchartButtonEl =\n",
              "        document.querySelector('#df-93ca52af-edae-4267-9a00-ba445027de73 button');\n",
              "      quickchartButtonEl.style.display =\n",
              "        google.colab.kernel.accessAllowed ? 'block' : 'none';\n",
              "    })();\n",
              "  </script>\n",
              "</div>\n",
              "\n",
              "    </div>\n",
              "  </div>\n"
            ],
            "application/vnd.google.colaboratory.intrinsic+json": {
              "type": "dataframe",
              "variable_name": "df",
              "summary": "{\n  \"name\": \"df\",\n  \"rows\": 172,\n  \"fields\": [\n    {\n      \"column\": \"Produit\",\n      \"properties\": {\n        \"dtype\": \"string\",\n        \"num_unique_values\": 140,\n        \"samples\": [\n          \"Eau de javel\",\n          \"Bonbons\",\n          \"Fromage r\\u00e2p\\u00e9 \\u00e0 l'emmental\"\n        ],\n        \"semantic_type\": \"\",\n        \"description\": \"\"\n      }\n    },\n    {\n      \"column\": \"Marque\",\n      \"properties\": {\n        \"dtype\": \"string\",\n        \"num_unique_values\": 108,\n        \"samples\": [\n          \"2,5 L\",\n          \"MAHJOUB\",\n          \"DIVA\"\n        ],\n        \"semantic_type\": \"\",\n        \"description\": \"\"\n      }\n    },\n    {\n      \"column\": \"Prix\",\n      \"properties\": {\n        \"dtype\": \"number\",\n        \"std\": 5.733859863679971,\n        \"min\": 0.38,\n        \"max\": 29.99,\n        \"num_unique_values\": 126,\n        \"samples\": [\n          2.49,\n          4.6,\n          5.45\n        ],\n        \"semantic_type\": \"\",\n        \"description\": \"\"\n      }\n    },\n    {\n      \"column\": \"Prix_avant_remise\",\n      \"properties\": {\n        \"dtype\": \"number\",\n        \"std\": 7.606671580299081,\n        \"min\": 0.43,\n        \"max\": 41.99,\n        \"num_unique_values\": 132,\n        \"samples\": [\n          5.67,\n          26.8,\n          3.55\n        ],\n        \"semantic_type\": \"\",\n        \"description\": \"\"\n      }\n    },\n    {\n      \"column\": \"Taille\",\n      \"properties\": {\n        \"dtype\": \"category\",\n        \"num_unique_values\": 67,\n        \"samples\": [\n          \"130 gr\",\n          \"400 gr\",\n          \"18 cl\"\n        ],\n        \"semantic_type\": \"\",\n        \"description\": \"\"\n      }\n    },\n    {\n      \"column\": \"Pourcentage\",\n      \"properties\": {\n        \"dtype\": \"category\",\n        \"num_unique_values\": 29,\n        \"samples\": [\n          \"-34%\",\n          \"-22%\",\n          \"-33%\"\n        ],\n        \"semantic_type\": \"\",\n        \"description\": \"\"\n      }\n    },\n    {\n      \"column\": \"magasin\",\n      \"properties\": {\n        \"dtype\": \"category\",\n        \"num_unique_values\": 1,\n        \"samples\": [\n          \"MG\"\n        ],\n        \"semantic_type\": \"\",\n        \"description\": \"\"\n      }\n    },\n    {\n      \"column\": \"Code_Produit\",\n      \"properties\": {\n        \"dtype\": \"string\",\n        \"num_unique_values\": 172,\n        \"samples\": [\n          \"M-1577\"\n        ],\n        \"semantic_type\": \"\",\n        \"description\": \"\"\n      }\n    },\n    {\n      \"column\": \"id_entreprise\",\n      \"properties\": {\n        \"dtype\": \"number\",\n        \"std\": 0,\n        \"min\": 3,\n        \"max\": 3,\n        \"num_unique_values\": 1,\n        \"samples\": [\n          3\n        ],\n        \"semantic_type\": \"\",\n        \"description\": \"\"\n      }\n    },\n    {\n      \"column\": \"Date_D_Achat\",\n      \"properties\": {\n        \"dtype\": \"object\",\n        \"num_unique_values\": 119,\n        \"samples\": [\n          \"26/09/2024\"\n        ],\n        \"semantic_type\": \"\",\n        \"description\": \"\"\n      }\n    },\n    {\n      \"column\": \"Quantite_Achetee\",\n      \"properties\": {\n        \"dtype\": \"number\",\n        \"std\": 1,\n        \"min\": 1,\n        \"max\": 4,\n        \"num_unique_values\": 4,\n        \"samples\": [\n          4\n        ],\n        \"semantic_type\": \"\",\n        \"description\": \"\"\n      }\n    }\n  ]\n}"
            }
          },
          "metadata": {},
          "execution_count": 266
        }
      ],
      "source": [
        "import pandas as pd\n",
        "import matplotlib.pyplot as plt\n",
        "\n",
        "# Lire le fichier depuis l'environnement Colab\n",
        "df = pd.read_excel(\"MG.xlsx\")\n",
        "\n",
        "# Afficher un aperçu des données\n",
        "df.head()\n",
        "\n"
      ]
    },
    {
      "cell_type": "code",
      "source": [
        "# Afficher les noms des colonnes du DataFrame\n",
        "print(df.columns)\n"
      ],
      "metadata": {
        "colab": {
          "base_uri": "https://localhost:8080/"
        },
        "id": "mViDSOBb8aSh",
        "outputId": "508aa42d-7f14-45b2-ffb2-22fc5536d4ba"
      },
      "execution_count": 267,
      "outputs": [
        {
          "output_type": "stream",
          "name": "stdout",
          "text": [
            "Index(['Produit', 'Marque', 'Prix', 'Prix_avant_remise', 'Taille',\n",
            "       'Pourcentage', 'magasin', 'Code_Produit', 'id_entreprise',\n",
            "       'Date_D_Achat', 'Quantite_Achetee'],\n",
            "      dtype='object')\n"
          ]
        }
      ]
    },
    {
      "cell_type": "code",
      "source": [
        "print(df[[\"Date_D_Achat\", \"Prix\", \"Prix_avant_remise\"]].head())\n",
        "print(df.dtypes)\n"
      ],
      "metadata": {
        "colab": {
          "base_uri": "https://localhost:8080/"
        },
        "id": "dqkBJAcGtkbe",
        "outputId": "8895029d-be27-4842-d63c-87d50031c2d7"
      },
      "execution_count": 268,
      "outputs": [
        {
          "output_type": "stream",
          "name": "stdout",
          "text": [
            "  Date_D_Achat  Prix  Prix_avant_remise\n",
            "0   30/09/2023  2.10               2.49\n",
            "1   22/01/2023  2.10               2.49\n",
            "2   01/03/2024  2.10               2.49\n",
            "3   23/01/2023  1.15               1.33\n",
            "4   31/05/2024  1.15               1.33\n",
            "Produit               object\n",
            "Marque                object\n",
            "Prix                 float64\n",
            "Prix_avant_remise    float64\n",
            "Taille                object\n",
            "Pourcentage           object\n",
            "magasin               object\n",
            "Code_Produit          object\n",
            "id_entreprise          int64\n",
            "Date_D_Achat          object\n",
            "Quantite_Achetee       int64\n",
            "dtype: object\n"
          ]
        }
      ]
    },
    {
      "cell_type": "code",
      "source": [
        "df[\"Date_D_Achat\"] = pd.to_datetime(df[\"Date_D_Achat\"], errors='coerce')\n",
        "df[\"Date_D_Achat\"]"
      ],
      "metadata": {
        "colab": {
          "base_uri": "https://localhost:8080/",
          "height": 515
        },
        "id": "4owyeEW3ttAO",
        "outputId": "f89e2917-89e6-4d9b-d513-76655a567428"
      },
      "execution_count": 269,
      "outputs": [
        {
          "output_type": "stream",
          "name": "stderr",
          "text": [
            "<ipython-input-269-c563ae313c96>:1: UserWarning: Parsing dates in %d/%m/%Y format when dayfirst=False (the default) was specified. Pass `dayfirst=True` or specify a format to silence this warning.\n",
            "  df[\"Date_D_Achat\"] = pd.to_datetime(df[\"Date_D_Achat\"], errors='coerce')\n"
          ]
        },
        {
          "output_type": "execute_result",
          "data": {
            "text/plain": [
              "0     2023-09-30\n",
              "1     2023-01-22\n",
              "2     2024-03-01\n",
              "3     2023-01-23\n",
              "4     2024-05-31\n",
              "         ...    \n",
              "167   2023-04-25\n",
              "168   2023-04-25\n",
              "169   2024-09-17\n",
              "170   2023-11-03\n",
              "171   2023-12-28\n",
              "Name: Date_D_Achat, Length: 172, dtype: datetime64[ns]"
            ],
            "text/html": [
              "<div>\n",
              "<style scoped>\n",
              "    .dataframe tbody tr th:only-of-type {\n",
              "        vertical-align: middle;\n",
              "    }\n",
              "\n",
              "    .dataframe tbody tr th {\n",
              "        vertical-align: top;\n",
              "    }\n",
              "\n",
              "    .dataframe thead th {\n",
              "        text-align: right;\n",
              "    }\n",
              "</style>\n",
              "<table border=\"1\" class=\"dataframe\">\n",
              "  <thead>\n",
              "    <tr style=\"text-align: right;\">\n",
              "      <th></th>\n",
              "      <th>Date_D_Achat</th>\n",
              "    </tr>\n",
              "  </thead>\n",
              "  <tbody>\n",
              "    <tr>\n",
              "      <th>0</th>\n",
              "      <td>2023-09-30</td>\n",
              "    </tr>\n",
              "    <tr>\n",
              "      <th>1</th>\n",
              "      <td>2023-01-22</td>\n",
              "    </tr>\n",
              "    <tr>\n",
              "      <th>2</th>\n",
              "      <td>2024-03-01</td>\n",
              "    </tr>\n",
              "    <tr>\n",
              "      <th>3</th>\n",
              "      <td>2023-01-23</td>\n",
              "    </tr>\n",
              "    <tr>\n",
              "      <th>4</th>\n",
              "      <td>2024-05-31</td>\n",
              "    </tr>\n",
              "    <tr>\n",
              "      <th>...</th>\n",
              "      <td>...</td>\n",
              "    </tr>\n",
              "    <tr>\n",
              "      <th>167</th>\n",
              "      <td>2023-04-25</td>\n",
              "    </tr>\n",
              "    <tr>\n",
              "      <th>168</th>\n",
              "      <td>2023-04-25</td>\n",
              "    </tr>\n",
              "    <tr>\n",
              "      <th>169</th>\n",
              "      <td>2024-09-17</td>\n",
              "    </tr>\n",
              "    <tr>\n",
              "      <th>170</th>\n",
              "      <td>2023-11-03</td>\n",
              "    </tr>\n",
              "    <tr>\n",
              "      <th>171</th>\n",
              "      <td>2023-12-28</td>\n",
              "    </tr>\n",
              "  </tbody>\n",
              "</table>\n",
              "<p>172 rows × 1 columns</p>\n",
              "</div><br><label><b>dtype:</b> datetime64[ns]</label>"
            ]
          },
          "metadata": {},
          "execution_count": 269
        }
      ]
    },
    {
      "cell_type": "code",
      "source": [
        "print(df[[\"Date_D_Achat\", \"Prix\", \"Prix_avant_remise\"]].isnull().sum())\n",
        "print(df[[\"Prix\", \"Prix_avant_remise\"]].describe())\n"
      ],
      "metadata": {
        "colab": {
          "base_uri": "https://localhost:8080/"
        },
        "id": "9FoMXDAGt3zh",
        "outputId": "a7d61e72-35f9-4117-b1a5-7ddfb928723c"
      },
      "execution_count": 278,
      "outputs": [
        {
          "output_type": "stream",
          "name": "stdout",
          "text": [
            "Date_D_Achat         0\n",
            "Prix                 0\n",
            "Prix_avant_remise    0\n",
            "dtype: int64\n",
            "             Prix  Prix_avant_remise\n",
            "count  172.000000         172.000000\n",
            "mean     5.934852           7.287124\n",
            "std      5.683340           7.171639\n",
            "min      0.380000           0.430000\n",
            "25%      2.297500           3.150000\n",
            "50%      4.040000           5.705000\n",
            "75%      6.340000           7.692500\n",
            "max     29.990000          41.990000\n"
          ]
        }
      ]
    },
    {
      "cell_type": "code",
      "source": [
        "df[\"Prix\"] = df[\"Prix\"].fillna(df[\"Prix\"].mean())\n",
        "df[\"Prix_avant_remise\"] = df[\"Prix_avant_remise\"].fillna(df[\"Prix_avant_remise\"].mean())\n"
      ],
      "metadata": {
        "id": "G1glTddDuAa8"
      },
      "execution_count": 279,
      "outputs": []
    },
    {
      "cell_type": "code",
      "source": [
        "# Imputer les valeurs manquantes sans utiliser inplace=True\n",
        "df['Quantite_Achetee'] = df['Quantite_Achetee'].fillna(df['Quantite_Achetee'].mean())\n",
        "df['Produit'] = df['Produit'].fillna(df['Produit'].mode()[0])\n",
        "df['Marque'] = df['Marque'].fillna(df['Marque'].mode()[0])\n",
        "df['Pourcentage'] = df['Pourcentage'].fillna(df['Pourcentage'].mode()[0])\n",
        "# Vérifier les NaN après traitement\n",
        "print(\"Après traitement des NaN:\")\n",
        "print(df.isna().sum())\n"
      ],
      "metadata": {
        "id": "TdmXzK2Y1LEJ",
        "outputId": "27e8f8f8-eefe-46eb-cf5a-4342624d1b3a",
        "colab": {
          "base_uri": "https://localhost:8080/"
        }
      },
      "execution_count": 280,
      "outputs": [
        {
          "output_type": "stream",
          "name": "stdout",
          "text": [
            "Après traitement des NaN:\n",
            "Produit              0\n",
            "Marque               0\n",
            "Prix                 0\n",
            "Prix_avant_remise    0\n",
            "Taille               0\n",
            "Pourcentage          0\n",
            "magasin              0\n",
            "Code_Produit         0\n",
            "id_entreprise        0\n",
            "Date_D_Achat         0\n",
            "Quantite_Achetee     0\n",
            "dtype: int64\n"
          ]
        }
      ]
    },
    {
      "cell_type": "code",
      "source": [
        "print(df['Pourcentage'])"
      ],
      "metadata": {
        "id": "0futRtNj1317",
        "outputId": "ee5e8c82-eca4-45fb-8e89-33846fa1fbbd",
        "colab": {
          "base_uri": "https://localhost:8080/"
        }
      },
      "execution_count": 281,
      "outputs": [
        {
          "output_type": "stream",
          "name": "stdout",
          "text": [
            "0     -16.0\n",
            "1     -16.0\n",
            "2     -16.0\n",
            "3     -14.0\n",
            "4     -14.0\n",
            "       ... \n",
            "167   -25.0\n",
            "168   -25.0\n",
            "169   -25.0\n",
            "170   -25.0\n",
            "171   -25.0\n",
            "Name: Pourcentage, Length: 172, dtype: float64\n"
          ]
        }
      ]
    },
    {
      "cell_type": "code",
      "source": [
        "# Imputer les NaN dans la colonne Taille (avec le mode)\n",
        "df['Taille'] = df['Taille'].fillna(df['Taille'].mode()[0])\n",
        "\n",
        "\n",
        "# Vérification après traitement\n",
        "print(\"Après traitement des NaN:\")\n",
        "print(df.isna().sum())"
      ],
      "metadata": {
        "id": "0Zbp7J-W1hjt",
        "outputId": "18716f06-6c7e-40c1-f50f-93ffbb6bf3a7",
        "colab": {
          "base_uri": "https://localhost:8080/"
        }
      },
      "execution_count": 282,
      "outputs": [
        {
          "output_type": "stream",
          "name": "stdout",
          "text": [
            "Après traitement des NaN:\n",
            "Produit              0\n",
            "Marque               0\n",
            "Prix                 0\n",
            "Prix_avant_remise    0\n",
            "Taille               0\n",
            "Pourcentage          0\n",
            "magasin              0\n",
            "Code_Produit         0\n",
            "id_entreprise        0\n",
            "Date_D_Achat         0\n",
            "Quantite_Achetee     0\n",
            "dtype: int64\n"
          ]
        }
      ]
    },
    {
      "cell_type": "code",
      "source": [
        "from sklearn.preprocessing import LabelEncoder\n",
        "import pandas as pd\n",
        "# Initialiser LabelEncoder\n",
        "label_encoder = LabelEncoder()\n",
        "\n",
        "# Appliquer Label Encoding sur la colonne 'Produit'\n",
        "df['Produit_encoded'] = label_encoder.fit_transform(df['Produit'])\n",
        "\n",
        "# Afficher le DataFrame avec l'encodage\n",
        "print(df[['Produit', 'Produit_encoded']])"
      ],
      "metadata": {
        "id": "kpEOd1aCzMKn",
        "outputId": "7859cfca-4e9b-494c-f7b8-56440afe1cb3",
        "colab": {
          "base_uri": "https://localhost:8080/"
        }
      },
      "execution_count": 283,
      "outputs": [
        {
          "output_type": "stream",
          "name": "stdout",
          "text": [
            "                Produit  Produit_encoded\n",
            "0       Boisson gazeuse                8\n",
            "1       Boisson gazeuse                8\n",
            "2       Boisson gazeuse                8\n",
            "3      Boisson gazeuse                 9\n",
            "4      Boisson gazeuse                 9\n",
            "..                  ...              ...\n",
            "167  GEL COIFFANT EFFET               65\n",
            "168     SAVON DE MENAGE              112\n",
            "169     Savon de menage              116\n",
            "170   Vinaigre a menage              132\n",
            "171     Savon de menage              116\n",
            "\n",
            "[172 rows x 2 columns]\n"
          ]
        }
      ]
    },
    {
      "cell_type": "code",
      "source": [
        "df['Marque_encoded'] = label_encoder.fit_transform(df['Marque'])\n",
        "df['Taille_encoded'] = label_encoder.fit_transform(df['Taille'])"
      ],
      "metadata": {
        "id": "zS_0eZGY0VHv"
      },
      "execution_count": 284,
      "outputs": []
    },
    {
      "cell_type": "code",
      "source": [
        "# Convertir la colonne 'Date_D_Achat' en format datetime\n",
        "df['Date_D_Achat'] = pd.to_datetime(df['Date_D_Achat'], format='%d/%m/%Y')\n"
      ],
      "metadata": {
        "id": "USvtcRe_0bdL"
      },
      "execution_count": 285,
      "outputs": []
    },
    {
      "cell_type": "code",
      "source": [
        "# Extraire des informations de date (année, mois, jour, etc.)\n",
        "df['Annee'] = df['Date_D_Achat'].dt.year\n",
        "df['Mois'] = df['Date_D_Achat'].dt.month\n",
        "df['Jour'] = df['Date_D_Achat'].dt.day\n"
      ],
      "metadata": {
        "id": "bR1schzH0g12"
      },
      "execution_count": 286,
      "outputs": []
    },
    {
      "cell_type": "code",
      "source": [
        "from sklearn.model_selection import train_test_split\n",
        "# Sélectionner les features et la cible\n",
        "X = df[['Produit_encoded', 'Marque_encoded', 'Taille_encoded', 'Quantite_Achetee', 'Annee', 'Mois', 'Jour']]\n",
        "y = df['Pourcentage']  # C'est la variable cible (à prédire)\n",
        "\n",
        "# Diviser en ensembles d'entraînement et de test\n",
        "X_train, X_test, y_train, y_test = train_test_split(X, y, test_size=0.2, random_state=42)\n",
        "\n",
        "# Affichage des données préparées pour l'entraînement\n",
        "print(X_train.head())"
      ],
      "metadata": {
        "id": "fqxCAaiW0jsK",
        "outputId": "5ef648c8-5bd0-4eb9-99f6-654c74c0bbe5",
        "colab": {
          "base_uri": "https://localhost:8080/"
        }
      },
      "execution_count": 287,
      "outputs": [
        {
          "output_type": "stream",
          "name": "stdout",
          "text": [
            "     Produit_encoded  Marque_encoded  Taille_encoded  Quantite_Achetee  Annee  \\\n",
            "101               27              13              11                 2   2023   \n",
            "56                74              45              60                 3   2023   \n",
            "42               139              32              11                 2   2024   \n",
            "82                22              80              11                 1   2023   \n",
            "65               102               6              56                 1   2024   \n",
            "\n",
            "     Mois  Jour  \n",
            "101     1    18  \n",
            "56      1    29  \n",
            "42      8    25  \n",
            "82     12    31  \n",
            "65      9    22  \n"
          ]
        }
      ]
    },
    {
      "cell_type": "code",
      "source": [
        "# Convertir la colonne 'Pourcentage' en nombre (en enlevant le % et en divisant par 100 si nécessaire)\n",
        "df['Pourcentage'] = df['Pourcentage'].replace({r'%': ''}, regex=True).astype(float)\n",
        "\n",
        "\n",
        "print(df['Pourcentage'])\n"
      ],
      "metadata": {
        "id": "pNaTRdUW2qTq",
        "outputId": "cd2cf5be-4d63-47e7-cadf-5716023dd5c6",
        "colab": {
          "base_uri": "https://localhost:8080/"
        }
      },
      "execution_count": 288,
      "outputs": [
        {
          "output_type": "stream",
          "name": "stdout",
          "text": [
            "0     -16.0\n",
            "1     -16.0\n",
            "2     -16.0\n",
            "3     -14.0\n",
            "4     -14.0\n",
            "       ... \n",
            "167   -25.0\n",
            "168   -25.0\n",
            "169   -25.0\n",
            "170   -25.0\n",
            "171   -25.0\n",
            "Name: Pourcentage, Length: 172, dtype: float64\n"
          ]
        }
      ]
    },
    {
      "cell_type": "code",
      "source": [
        "from sklearn.ensemble import RandomForestRegressor\n",
        "from sklearn.metrics import mean_squared_error\n",
        "\n",
        "# Entraîner le modèle de régression\n",
        "model = RandomForestRegressor(random_state=42)\n",
        "model.fit(X_train, y_train)\n",
        "\n",
        "# Prédictions sur les données de test\n",
        "y_pred = model.predict(X_test)\n",
        "\n"
      ],
      "metadata": {
        "id": "8dXuul1t00pc"
      },
      "execution_count": 293,
      "outputs": []
    },
    {
      "cell_type": "code",
      "source": [
        "import sklearn\n",
        "print(sklearn.__version__)\n"
      ],
      "metadata": {
        "id": "j4u46UrN34BK",
        "outputId": "6dbe3cec-944d-48b6-da5d-e8539d2577f4",
        "colab": {
          "base_uri": "https://localhost:8080/"
        }
      },
      "execution_count": 290,
      "outputs": [
        {
          "output_type": "stream",
          "name": "stdout",
          "text": [
            "1.6.1\n"
          ]
        }
      ]
    },
    {
      "cell_type": "code",
      "source": [
        "pip install --upgrade scikit-learn\n"
      ],
      "metadata": {
        "id": "HM_xX1Ln4Acv",
        "outputId": "b7c39cea-6ca4-452f-e4ef-1a31666e26fb",
        "colab": {
          "base_uri": "https://localhost:8080/"
        }
      },
      "execution_count": 291,
      "outputs": [
        {
          "output_type": "stream",
          "name": "stdout",
          "text": [
            "Requirement already satisfied: scikit-learn in /usr/local/lib/python3.11/dist-packages (1.6.1)\n",
            "Requirement already satisfied: numpy>=1.19.5 in /usr/local/lib/python3.11/dist-packages (from scikit-learn) (2.0.2)\n",
            "Requirement already satisfied: scipy>=1.6.0 in /usr/local/lib/python3.11/dist-packages (from scikit-learn) (1.14.1)\n",
            "Requirement already satisfied: joblib>=1.2.0 in /usr/local/lib/python3.11/dist-packages (from scikit-learn) (1.4.2)\n",
            "Requirement already satisfied: threadpoolctl>=3.1.0 in /usr/local/lib/python3.11/dist-packages (from scikit-learn) (3.6.0)\n"
          ]
        }
      ]
    },
    {
      "cell_type": "code",
      "source": [
        "\n",
        "\n",
        "import numpy as np\n",
        "from sklearn.metrics import mean_squared_error\n",
        "\n",
        "# Calcul de la MSE (Mean Squared Error)\n",
        "mse = mean_squared_error(y_test, y_pred)\n",
        "\n",
        "# Calcul du RMSE en prenant la racine carrée de la MSE\n",
        "rmse = np.sqrt(mse)\n",
        "\n",
        "print(f\"RMSE : {rmse}\")\n",
        "\n",
        "\n"
      ],
      "metadata": {
        "id": "ZogLd8VN3jkb",
        "outputId": "bf034755-4289-414c-c545-ebf11e36db60",
        "colab": {
          "base_uri": "https://localhost:8080/"
        }
      },
      "execution_count": 295,
      "outputs": [
        {
          "output_type": "stream",
          "name": "stdout",
          "text": [
            "RMSE : 5.755439166562358\n"
          ]
        }
      ]
    },
    {
      "cell_type": "code",
      "source": [
        "df.head()"
      ],
      "metadata": {
        "id": "46A_hjnjgQ4s",
        "outputId": "61962f75-041e-46e1-cbd5-09f1ef9cf68a",
        "colab": {
          "base_uri": "https://localhost:8080/",
          "height": 313
        }
      },
      "execution_count": 296,
      "outputs": [
        {
          "output_type": "execute_result",
          "data": {
            "text/plain": [
              "            Produit   Marque  Prix  Prix_avant_remise Taille  Pourcentage  \\\n",
              "0   Boisson gazeuse     VIVA  2.10               2.49     1L        -16.0   \n",
              "1   Boisson gazeuse  TROPICO  2.10               2.49     1L        -16.0   \n",
              "2   Boisson gazeuse    RAOUA  2.10               2.49     1L        -16.0   \n",
              "3  Boisson gazeuse      VIVA  1.15               1.33  24 cl        -14.0   \n",
              "4  Boisson gazeuse     RAOUA  1.15               1.33  24 cl        -14.0   \n",
              "\n",
              "  magasin Code_Produit  id_entreprise Date_D_Achat  Quantite_Achetee  \\\n",
              "0      MG       M-1501              3   2023-09-30                 3   \n",
              "1      MG       M-1502              3   2023-01-22                 4   \n",
              "2      MG       M-1503              3   2024-03-01                 4   \n",
              "3      MG       M-1504              3   2023-01-23                 2   \n",
              "4      MG       M-1505              3   2024-05-31                 3   \n",
              "\n",
              "   Produit_encoded  Marque_encoded  Taille_encoded  Annee  Mois  Jour  \n",
              "0                8             104              23   2023     9    30  \n",
              "1                8              99              23   2023     1    22  \n",
              "2                8              85              23   2024     3     1  \n",
              "3                9             104              30   2023     1    23  \n",
              "4                9              85              30   2024     5    31  "
            ],
            "text/html": [
              "\n",
              "  <div id=\"df-e5c02105-cbd8-42c3-816a-44fe600e45fc\" class=\"colab-df-container\">\n",
              "    <div>\n",
              "<style scoped>\n",
              "    .dataframe tbody tr th:only-of-type {\n",
              "        vertical-align: middle;\n",
              "    }\n",
              "\n",
              "    .dataframe tbody tr th {\n",
              "        vertical-align: top;\n",
              "    }\n",
              "\n",
              "    .dataframe thead th {\n",
              "        text-align: right;\n",
              "    }\n",
              "</style>\n",
              "<table border=\"1\" class=\"dataframe\">\n",
              "  <thead>\n",
              "    <tr style=\"text-align: right;\">\n",
              "      <th></th>\n",
              "      <th>Produit</th>\n",
              "      <th>Marque</th>\n",
              "      <th>Prix</th>\n",
              "      <th>Prix_avant_remise</th>\n",
              "      <th>Taille</th>\n",
              "      <th>Pourcentage</th>\n",
              "      <th>magasin</th>\n",
              "      <th>Code_Produit</th>\n",
              "      <th>id_entreprise</th>\n",
              "      <th>Date_D_Achat</th>\n",
              "      <th>Quantite_Achetee</th>\n",
              "      <th>Produit_encoded</th>\n",
              "      <th>Marque_encoded</th>\n",
              "      <th>Taille_encoded</th>\n",
              "      <th>Annee</th>\n",
              "      <th>Mois</th>\n",
              "      <th>Jour</th>\n",
              "    </tr>\n",
              "  </thead>\n",
              "  <tbody>\n",
              "    <tr>\n",
              "      <th>0</th>\n",
              "      <td>Boisson gazeuse</td>\n",
              "      <td>VIVA</td>\n",
              "      <td>2.10</td>\n",
              "      <td>2.49</td>\n",
              "      <td>1L</td>\n",
              "      <td>-16.0</td>\n",
              "      <td>MG</td>\n",
              "      <td>M-1501</td>\n",
              "      <td>3</td>\n",
              "      <td>2023-09-30</td>\n",
              "      <td>3</td>\n",
              "      <td>8</td>\n",
              "      <td>104</td>\n",
              "      <td>23</td>\n",
              "      <td>2023</td>\n",
              "      <td>9</td>\n",
              "      <td>30</td>\n",
              "    </tr>\n",
              "    <tr>\n",
              "      <th>1</th>\n",
              "      <td>Boisson gazeuse</td>\n",
              "      <td>TROPICO</td>\n",
              "      <td>2.10</td>\n",
              "      <td>2.49</td>\n",
              "      <td>1L</td>\n",
              "      <td>-16.0</td>\n",
              "      <td>MG</td>\n",
              "      <td>M-1502</td>\n",
              "      <td>3</td>\n",
              "      <td>2023-01-22</td>\n",
              "      <td>4</td>\n",
              "      <td>8</td>\n",
              "      <td>99</td>\n",
              "      <td>23</td>\n",
              "      <td>2023</td>\n",
              "      <td>1</td>\n",
              "      <td>22</td>\n",
              "    </tr>\n",
              "    <tr>\n",
              "      <th>2</th>\n",
              "      <td>Boisson gazeuse</td>\n",
              "      <td>RAOUA</td>\n",
              "      <td>2.10</td>\n",
              "      <td>2.49</td>\n",
              "      <td>1L</td>\n",
              "      <td>-16.0</td>\n",
              "      <td>MG</td>\n",
              "      <td>M-1503</td>\n",
              "      <td>3</td>\n",
              "      <td>2024-03-01</td>\n",
              "      <td>4</td>\n",
              "      <td>8</td>\n",
              "      <td>85</td>\n",
              "      <td>23</td>\n",
              "      <td>2024</td>\n",
              "      <td>3</td>\n",
              "      <td>1</td>\n",
              "    </tr>\n",
              "    <tr>\n",
              "      <th>3</th>\n",
              "      <td>Boisson gazeuse</td>\n",
              "      <td>VIVA</td>\n",
              "      <td>1.15</td>\n",
              "      <td>1.33</td>\n",
              "      <td>24 cl</td>\n",
              "      <td>-14.0</td>\n",
              "      <td>MG</td>\n",
              "      <td>M-1504</td>\n",
              "      <td>3</td>\n",
              "      <td>2023-01-23</td>\n",
              "      <td>2</td>\n",
              "      <td>9</td>\n",
              "      <td>104</td>\n",
              "      <td>30</td>\n",
              "      <td>2023</td>\n",
              "      <td>1</td>\n",
              "      <td>23</td>\n",
              "    </tr>\n",
              "    <tr>\n",
              "      <th>4</th>\n",
              "      <td>Boisson gazeuse</td>\n",
              "      <td>RAOUA</td>\n",
              "      <td>1.15</td>\n",
              "      <td>1.33</td>\n",
              "      <td>24 cl</td>\n",
              "      <td>-14.0</td>\n",
              "      <td>MG</td>\n",
              "      <td>M-1505</td>\n",
              "      <td>3</td>\n",
              "      <td>2024-05-31</td>\n",
              "      <td>3</td>\n",
              "      <td>9</td>\n",
              "      <td>85</td>\n",
              "      <td>30</td>\n",
              "      <td>2024</td>\n",
              "      <td>5</td>\n",
              "      <td>31</td>\n",
              "    </tr>\n",
              "  </tbody>\n",
              "</table>\n",
              "</div>\n",
              "    <div class=\"colab-df-buttons\">\n",
              "\n",
              "  <div class=\"colab-df-container\">\n",
              "    <button class=\"colab-df-convert\" onclick=\"convertToInteractive('df-e5c02105-cbd8-42c3-816a-44fe600e45fc')\"\n",
              "            title=\"Convert this dataframe to an interactive table.\"\n",
              "            style=\"display:none;\">\n",
              "\n",
              "  <svg xmlns=\"http://www.w3.org/2000/svg\" height=\"24px\" viewBox=\"0 -960 960 960\">\n",
              "    <path d=\"M120-120v-720h720v720H120Zm60-500h600v-160H180v160Zm220 220h160v-160H400v160Zm0 220h160v-160H400v160ZM180-400h160v-160H180v160Zm440 0h160v-160H620v160ZM180-180h160v-160H180v160Zm440 0h160v-160H620v160Z\"/>\n",
              "  </svg>\n",
              "    </button>\n",
              "\n",
              "  <style>\n",
              "    .colab-df-container {\n",
              "      display:flex;\n",
              "      gap: 12px;\n",
              "    }\n",
              "\n",
              "    .colab-df-convert {\n",
              "      background-color: #E8F0FE;\n",
              "      border: none;\n",
              "      border-radius: 50%;\n",
              "      cursor: pointer;\n",
              "      display: none;\n",
              "      fill: #1967D2;\n",
              "      height: 32px;\n",
              "      padding: 0 0 0 0;\n",
              "      width: 32px;\n",
              "    }\n",
              "\n",
              "    .colab-df-convert:hover {\n",
              "      background-color: #E2EBFA;\n",
              "      box-shadow: 0px 1px 2px rgba(60, 64, 67, 0.3), 0px 1px 3px 1px rgba(60, 64, 67, 0.15);\n",
              "      fill: #174EA6;\n",
              "    }\n",
              "\n",
              "    .colab-df-buttons div {\n",
              "      margin-bottom: 4px;\n",
              "    }\n",
              "\n",
              "    [theme=dark] .colab-df-convert {\n",
              "      background-color: #3B4455;\n",
              "      fill: #D2E3FC;\n",
              "    }\n",
              "\n",
              "    [theme=dark] .colab-df-convert:hover {\n",
              "      background-color: #434B5C;\n",
              "      box-shadow: 0px 1px 3px 1px rgba(0, 0, 0, 0.15);\n",
              "      filter: drop-shadow(0px 1px 2px rgba(0, 0, 0, 0.3));\n",
              "      fill: #FFFFFF;\n",
              "    }\n",
              "  </style>\n",
              "\n",
              "    <script>\n",
              "      const buttonEl =\n",
              "        document.querySelector('#df-e5c02105-cbd8-42c3-816a-44fe600e45fc button.colab-df-convert');\n",
              "      buttonEl.style.display =\n",
              "        google.colab.kernel.accessAllowed ? 'block' : 'none';\n",
              "\n",
              "      async function convertToInteractive(key) {\n",
              "        const element = document.querySelector('#df-e5c02105-cbd8-42c3-816a-44fe600e45fc');\n",
              "        const dataTable =\n",
              "          await google.colab.kernel.invokeFunction('convertToInteractive',\n",
              "                                                    [key], {});\n",
              "        if (!dataTable) return;\n",
              "\n",
              "        const docLinkHtml = 'Like what you see? Visit the ' +\n",
              "          '<a target=\"_blank\" href=https://colab.research.google.com/notebooks/data_table.ipynb>data table notebook</a>'\n",
              "          + ' to learn more about interactive tables.';\n",
              "        element.innerHTML = '';\n",
              "        dataTable['output_type'] = 'display_data';\n",
              "        await google.colab.output.renderOutput(dataTable, element);\n",
              "        const docLink = document.createElement('div');\n",
              "        docLink.innerHTML = docLinkHtml;\n",
              "        element.appendChild(docLink);\n",
              "      }\n",
              "    </script>\n",
              "  </div>\n",
              "\n",
              "\n",
              "<div id=\"df-4d5e98c9-4361-45d1-b1d8-6432bfddd4ac\">\n",
              "  <button class=\"colab-df-quickchart\" onclick=\"quickchart('df-4d5e98c9-4361-45d1-b1d8-6432bfddd4ac')\"\n",
              "            title=\"Suggest charts\"\n",
              "            style=\"display:none;\">\n",
              "\n",
              "<svg xmlns=\"http://www.w3.org/2000/svg\" height=\"24px\"viewBox=\"0 0 24 24\"\n",
              "     width=\"24px\">\n",
              "    <g>\n",
              "        <path d=\"M19 3H5c-1.1 0-2 .9-2 2v14c0 1.1.9 2 2 2h14c1.1 0 2-.9 2-2V5c0-1.1-.9-2-2-2zM9 17H7v-7h2v7zm4 0h-2V7h2v10zm4 0h-2v-4h2v4z\"/>\n",
              "    </g>\n",
              "</svg>\n",
              "  </button>\n",
              "\n",
              "<style>\n",
              "  .colab-df-quickchart {\n",
              "      --bg-color: #E8F0FE;\n",
              "      --fill-color: #1967D2;\n",
              "      --hover-bg-color: #E2EBFA;\n",
              "      --hover-fill-color: #174EA6;\n",
              "      --disabled-fill-color: #AAA;\n",
              "      --disabled-bg-color: #DDD;\n",
              "  }\n",
              "\n",
              "  [theme=dark] .colab-df-quickchart {\n",
              "      --bg-color: #3B4455;\n",
              "      --fill-color: #D2E3FC;\n",
              "      --hover-bg-color: #434B5C;\n",
              "      --hover-fill-color: #FFFFFF;\n",
              "      --disabled-bg-color: #3B4455;\n",
              "      --disabled-fill-color: #666;\n",
              "  }\n",
              "\n",
              "  .colab-df-quickchart {\n",
              "    background-color: var(--bg-color);\n",
              "    border: none;\n",
              "    border-radius: 50%;\n",
              "    cursor: pointer;\n",
              "    display: none;\n",
              "    fill: var(--fill-color);\n",
              "    height: 32px;\n",
              "    padding: 0;\n",
              "    width: 32px;\n",
              "  }\n",
              "\n",
              "  .colab-df-quickchart:hover {\n",
              "    background-color: var(--hover-bg-color);\n",
              "    box-shadow: 0 1px 2px rgba(60, 64, 67, 0.3), 0 1px 3px 1px rgba(60, 64, 67, 0.15);\n",
              "    fill: var(--button-hover-fill-color);\n",
              "  }\n",
              "\n",
              "  .colab-df-quickchart-complete:disabled,\n",
              "  .colab-df-quickchart-complete:disabled:hover {\n",
              "    background-color: var(--disabled-bg-color);\n",
              "    fill: var(--disabled-fill-color);\n",
              "    box-shadow: none;\n",
              "  }\n",
              "\n",
              "  .colab-df-spinner {\n",
              "    border: 2px solid var(--fill-color);\n",
              "    border-color: transparent;\n",
              "    border-bottom-color: var(--fill-color);\n",
              "    animation:\n",
              "      spin 1s steps(1) infinite;\n",
              "  }\n",
              "\n",
              "  @keyframes spin {\n",
              "    0% {\n",
              "      border-color: transparent;\n",
              "      border-bottom-color: var(--fill-color);\n",
              "      border-left-color: var(--fill-color);\n",
              "    }\n",
              "    20% {\n",
              "      border-color: transparent;\n",
              "      border-left-color: var(--fill-color);\n",
              "      border-top-color: var(--fill-color);\n",
              "    }\n",
              "    30% {\n",
              "      border-color: transparent;\n",
              "      border-left-color: var(--fill-color);\n",
              "      border-top-color: var(--fill-color);\n",
              "      border-right-color: var(--fill-color);\n",
              "    }\n",
              "    40% {\n",
              "      border-color: transparent;\n",
              "      border-right-color: var(--fill-color);\n",
              "      border-top-color: var(--fill-color);\n",
              "    }\n",
              "    60% {\n",
              "      border-color: transparent;\n",
              "      border-right-color: var(--fill-color);\n",
              "    }\n",
              "    80% {\n",
              "      border-color: transparent;\n",
              "      border-right-color: var(--fill-color);\n",
              "      border-bottom-color: var(--fill-color);\n",
              "    }\n",
              "    90% {\n",
              "      border-color: transparent;\n",
              "      border-bottom-color: var(--fill-color);\n",
              "    }\n",
              "  }\n",
              "</style>\n",
              "\n",
              "  <script>\n",
              "    async function quickchart(key) {\n",
              "      const quickchartButtonEl =\n",
              "        document.querySelector('#' + key + ' button');\n",
              "      quickchartButtonEl.disabled = true;  // To prevent multiple clicks.\n",
              "      quickchartButtonEl.classList.add('colab-df-spinner');\n",
              "      try {\n",
              "        const charts = await google.colab.kernel.invokeFunction(\n",
              "            'suggestCharts', [key], {});\n",
              "      } catch (error) {\n",
              "        console.error('Error during call to suggestCharts:', error);\n",
              "      }\n",
              "      quickchartButtonEl.classList.remove('colab-df-spinner');\n",
              "      quickchartButtonEl.classList.add('colab-df-quickchart-complete');\n",
              "    }\n",
              "    (() => {\n",
              "      let quickchartButtonEl =\n",
              "        document.querySelector('#df-4d5e98c9-4361-45d1-b1d8-6432bfddd4ac button');\n",
              "      quickchartButtonEl.style.display =\n",
              "        google.colab.kernel.accessAllowed ? 'block' : 'none';\n",
              "    })();\n",
              "  </script>\n",
              "</div>\n",
              "\n",
              "    </div>\n",
              "  </div>\n"
            ],
            "application/vnd.google.colaboratory.intrinsic+json": {
              "type": "dataframe",
              "variable_name": "df",
              "summary": "{\n  \"name\": \"df\",\n  \"rows\": 172,\n  \"fields\": [\n    {\n      \"column\": \"Produit\",\n      \"properties\": {\n        \"dtype\": \"string\",\n        \"num_unique_values\": 140,\n        \"samples\": [\n          \"Assouplissant\",\n          \"Bonbons\",\n          \"Fromage r\\u00e2p\\u00e9 \\u00e0 l'emmental\"\n        ],\n        \"semantic_type\": \"\",\n        \"description\": \"\"\n      }\n    },\n    {\n      \"column\": \"Marque\",\n      \"properties\": {\n        \"dtype\": \"string\",\n        \"num_unique_values\": 108,\n        \"samples\": [\n          \"2,5 L\",\n          \"MAHJOUB\",\n          \"DIVA\"\n        ],\n        \"semantic_type\": \"\",\n        \"description\": \"\"\n      }\n    },\n    {\n      \"column\": \"Prix\",\n      \"properties\": {\n        \"dtype\": \"number\",\n        \"std\": 5.683340289804754,\n        \"min\": 0.38,\n        \"max\": 29.99,\n        \"num_unique_values\": 127,\n        \"samples\": [\n          0.7,\n          10.85,\n          1.49\n        ],\n        \"semantic_type\": \"\",\n        \"description\": \"\"\n      }\n    },\n    {\n      \"column\": \"Prix_avant_remise\",\n      \"properties\": {\n        \"dtype\": \"number\",\n        \"std\": 7.1716387422512975,\n        \"min\": 0.43,\n        \"max\": 41.99,\n        \"num_unique_values\": 133,\n        \"samples\": [\n          3.1,\n          2.99,\n          5.74\n        ],\n        \"semantic_type\": \"\",\n        \"description\": \"\"\n      }\n    },\n    {\n      \"column\": \"Taille\",\n      \"properties\": {\n        \"dtype\": \"category\",\n        \"num_unique_values\": 67,\n        \"samples\": [\n          \"130 gr\",\n          \"400 gr\",\n          \"18 cl\"\n        ],\n        \"semantic_type\": \"\",\n        \"description\": \"\"\n      }\n    },\n    {\n      \"column\": \"Pourcentage\",\n      \"properties\": {\n        \"dtype\": \"number\",\n        \"std\": 6.8405615013496375,\n        \"min\": -42.0,\n        \"max\": 26.0,\n        \"num_unique_values\": 29,\n        \"samples\": [\n          -34.0,\n          -22.0,\n          -33.0\n        ],\n        \"semantic_type\": \"\",\n        \"description\": \"\"\n      }\n    },\n    {\n      \"column\": \"magasin\",\n      \"properties\": {\n        \"dtype\": \"category\",\n        \"num_unique_values\": 1,\n        \"samples\": [\n          \"MG\"\n        ],\n        \"semantic_type\": \"\",\n        \"description\": \"\"\n      }\n    },\n    {\n      \"column\": \"Code_Produit\",\n      \"properties\": {\n        \"dtype\": \"string\",\n        \"num_unique_values\": 172,\n        \"samples\": [\n          \"M-1577\"\n        ],\n        \"semantic_type\": \"\",\n        \"description\": \"\"\n      }\n    },\n    {\n      \"column\": \"id_entreprise\",\n      \"properties\": {\n        \"dtype\": \"number\",\n        \"std\": 0,\n        \"min\": 3,\n        \"max\": 3,\n        \"num_unique_values\": 1,\n        \"samples\": [\n          3\n        ],\n        \"semantic_type\": \"\",\n        \"description\": \"\"\n      }\n    },\n    {\n      \"column\": \"Date_D_Achat\",\n      \"properties\": {\n        \"dtype\": \"date\",\n        \"min\": \"2023-01-10 00:00:00\",\n        \"max\": \"2024-12-21 00:00:00\",\n        \"num_unique_values\": 119,\n        \"samples\": [\n          \"2024-09-26 00:00:00\"\n        ],\n        \"semantic_type\": \"\",\n        \"description\": \"\"\n      }\n    },\n    {\n      \"column\": \"Quantite_Achetee\",\n      \"properties\": {\n        \"dtype\": \"number\",\n        \"std\": 1,\n        \"min\": 1,\n        \"max\": 4,\n        \"num_unique_values\": 4,\n        \"samples\": [\n          4\n        ],\n        \"semantic_type\": \"\",\n        \"description\": \"\"\n      }\n    },\n    {\n      \"column\": \"Produit_encoded\",\n      \"properties\": {\n        \"dtype\": \"number\",\n        \"std\": 41,\n        \"min\": 0,\n        \"max\": 139,\n        \"num_unique_values\": 140,\n        \"samples\": [\n          0\n        ],\n        \"semantic_type\": \"\",\n        \"description\": \"\"\n      }\n    },\n    {\n      \"column\": \"Marque_encoded\",\n      \"properties\": {\n        \"dtype\": \"number\",\n        \"std\": 29,\n        \"min\": 0,\n        \"max\": 107,\n        \"num_unique_values\": 108,\n        \"samples\": [\n          3\n        ],\n        \"semantic_type\": \"\",\n        \"description\": \"\"\n      }\n    },\n    {\n      \"column\": \"Taille_encoded\",\n      \"properties\": {\n        \"dtype\": \"number\",\n        \"std\": 17,\n        \"min\": 0,\n        \"max\": 66,\n        \"num_unique_values\": 67,\n        \"samples\": [\n          16\n        ],\n        \"semantic_type\": \"\",\n        \"description\": \"\"\n      }\n    },\n    {\n      \"column\": \"Annee\",\n      \"properties\": {\n        \"dtype\": \"int32\",\n        \"num_unique_values\": 2,\n        \"samples\": [\n          2024\n        ],\n        \"semantic_type\": \"\",\n        \"description\": \"\"\n      }\n    },\n    {\n      \"column\": \"Mois\",\n      \"properties\": {\n        \"dtype\": \"int32\",\n        \"num_unique_values\": 12,\n        \"samples\": [\n          12\n        ],\n        \"semantic_type\": \"\",\n        \"description\": \"\"\n      }\n    },\n    {\n      \"column\": \"Jour\",\n      \"properties\": {\n        \"dtype\": \"int32\",\n        \"num_unique_values\": 31,\n        \"samples\": [\n          28\n        ],\n        \"semantic_type\": \"\",\n        \"description\": \"\"\n      }\n    }\n  ]\n}"
            }
          },
          "metadata": {},
          "execution_count": 296
        }
      ]
    },
    {
      "cell_type": "code",
      "source": [
        "#interpretation\n",
        "#Un RMSE faible signifie que les valeurs prédites sont proches des valeurs réelles, donc le modèle est précis.\n",
        "#Un RMSE élevé indique que les prédictions sont souvent loin des valeurs réelles, ce qui signifie que le modèle fait des erreurs importantes."
      ],
      "metadata": {
        "id": "sAdubb3ceDi_"
      },
      "execution_count": null,
      "outputs": []
    },
    {
      "cell_type": "code",
      "source": [
        "# Exemple d'inputs pour un produit spécifique\n",
        "produit_test = 5   # Remplace avec l'encodage réel du produit\n",
        "marque_test = 3    # Remplace avec l'encodage réel de la marque\n",
        "taille_test = 2    # Remplace avec l'encodage réel de la taille\n",
        "quantite_test = 1  # Nombre d'unités achetées\n",
        "annee_test = 2024  # Année d'achat\n",
        "mois_test = 3      # Mois d'achat (mars)\n",
        "jour_test = 29     # Jour d'achat (29)\n",
        "\n",
        "# Créer un input sous forme de liste\n",
        "input_test = [[produit_test, marque_test, taille_test, quantite_test, annee_test, mois_test, jour_test]]\n",
        "\n",
        "# Faire la prédiction\n",
        "prediction = model.predict(input_test)\n",
        "\n",
        "# Afficher le résultat\n",
        "print(f\"Pourcentage de réduction prédit : {prediction[0]:.2f}%\")\n"
      ],
      "metadata": {
        "id": "_LXOlXq3j3o7",
        "outputId": "a29e0e09-acd2-417b-f6c9-0499d6fd88e8",
        "colab": {
          "base_uri": "https://localhost:8080/"
        }
      },
      "execution_count": 297,
      "outputs": [
        {
          "output_type": "stream",
          "name": "stdout",
          "text": [
            "Pourcentage de réduction prédit : -22.15%\n"
          ]
        },
        {
          "output_type": "stream",
          "name": "stderr",
          "text": [
            "/usr/local/lib/python3.11/dist-packages/sklearn/utils/validation.py:2739: UserWarning: X does not have valid feature names, but RandomForestRegressor was fitted with feature names\n",
            "  warnings.warn(\n"
          ]
        }
      ]
    },
    {
      "cell_type": "markdown",
      "source": [
        "\n",
        "# **Série temp**\n",
        "\n"
      ],
      "metadata": {
        "id": "AQuA_3KQtP_f"
      }
    }
  ]
}